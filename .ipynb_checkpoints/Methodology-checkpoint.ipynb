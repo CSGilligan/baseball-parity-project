{
 "cells": [
  {
   "cell_type": "markdown",
   "id": "6276d3f3",
   "metadata": {},
   "source": [
    "# The Baseball Parity Project: Methodology"
   ]
  },
  {
   "cell_type": "markdown",
   "id": "a06bc710",
   "metadata": {},
   "source": [
    "In this project, I take a look at Major League Baseball's parity in the divisional era (1995-2021) by visualizing the standard deviation of team wins on each day of the regular season for each year. \n",
    "\n",
    "We see that the last few full seasons have shown an increased disparity in team wins across the league. At the 2021 All-Star Break, an annual break in the schedule representing the unofficial halfway point of the season, I show that the current season is trending towards another highly disparate distribution. \n",
    "\n",
    "This is of interest because the higher the deviation, the more likely that more of the games are being played non-competitively, especially towards the end of the season when some teams have been effectively eliminated from playoff contention.\n",
    " "
   ]
  },
  {
   "cell_type": "markdown",
   "id": "d1e939ce",
   "metadata": {},
   "source": [
    "### Getting Started"
   ]
  },
  {
   "cell_type": "markdown",
   "id": "31855971",
   "metadata": {},
   "source": [
    "This project began with the idea to visualize the standings of each day of the schedule during Major League Baseball's divisional era (1995-2021). This meant I had to build a scraper to pull from a daily standings page on Baseball-Reference.com (https://www.baseball-reference.com/boxes/), where the site hosts the current standings for any day of the year.\n",
    "\n",
    "Then I would be able to analyze that dataframe to find the daily standard deviation in wins, from which I could build my first visualization."
   ]
  },
  {
   "cell_type": "markdown",
   "id": "27ea5235",
   "metadata": {},
   "source": [
    "### Building the Scraper"
   ]
  },
  {
   "cell_type": "markdown",
   "id": "292876da",
   "metadata": {},
   "source": [
    "I built the scraper using Beautiful Soup in a file found in the repo called 'Baseball Parity Calendar-Creating a DataFrame with Wins.ipynb'.\n",
    "\n",
    "In the file, I start by parsing the standings from a specific day in July 2019, which can be found at https://www.baseball-reference.com/boxes/?month=7&day=1&year=2019. Noting the format of the url, I knew that if I could generate a list of dates of the year, I could eventually build a for loop to run through all the dates once I had written the code for my scraper.\n",
    "\n",
    "I began by calling all the divisional standings tables on the page and drilling down until I could isolate the specific statistics I wanted to analyze. For each division, I created a dataframe with the columns of team, wins, winning percentage (wp), and games back from first place (gb).\n",
    "\n",
    "Once I had this code, I built a list of all of the dates that I was interested in including, and added them each to lists by year. From this list, I built the urls for each day and then wrote a for loop for running my scraper through each of the dates on each list."
   ]
  },
  {
   "cell_type": "markdown",
   "id": "e5945ced",
   "metadata": {},
   "source": [
    "### Year by Year"
   ]
  },
  {
   "cell_type": "markdown",
   "id": "b5975d4d",
   "metadata": {},
   "source": [
    "Now I had a list of dates and a scraper, and I wanted to run the scraper through all of the years to find dataframes for each day of my desired visualization. This took forever, and I wanted a little bit more control over potential debugging, so I decided to run the scraper through each year manually to: \n",
    "1. Generate dataframes for all days,\n",
    "2. Analyze each dataframe for the standard deviation in win totals across the league, and\n",
    "3. Add those daily standard deviations to their own dataframe, leaving us with a df of daily standard deviation values where the rows are dates of the calendar and the columns are years."
   ]
  },
  {
   "cell_type": "markdown",
   "id": "f8818f23",
   "metadata": {},
   "source": [
    "### Creating a Second DataFrame"
   ]
  },
  {
   "cell_type": "markdown",
   "id": "8481802a",
   "metadata": {},
   "source": [
    "Once I had this dataframe, I did sone exploration on what a visualization might look like, deciding that I wanted a sort of horizontal calendar heatmap with each year displayed vertically, and I could see that the last few full seasons had shown a trend in increasing disparity.\n",
    "\n",
    "But because of the nature of my visualization, the pace of the deviation in the shortened 60-game 2020 season (due to coronavirus) and the in-progess 2021 season didn't come through as well visually. So I decided I would create a second dataframe to show how the values in the last two partial seasons would compare to all seasons if adjusted for a full, 162-game season.\n",
    "\n",
    "For this dataframe, I would need the end-of-season standard deviations and total games scheduled for each season. I knew that all seasons in this time had been scheduled as 162 games except for 1995 (because of a player strike), 2020, and this season (being in progress), so I was able to create this dataframe easily using data from my previous dataframe and these season game totals."
   ]
  },
  {
   "cell_type": "markdown",
   "id": "17b63f1f",
   "metadata": {},
   "source": [
    "### Melting"
   ]
  },
  {
   "cell_type": "markdown",
   "id": "3f1c775d",
   "metadata": {},
   "source": [
    "For the first visual, I was hoping to use Flourish's heatmap template, but I quickly realized I would need to change the format of my data, because although I wanted to display years vertically and days horizontally, the template required two columns of data for the id variables, so I had to use pd.melt to reshape my first dataframe."
   ]
  },
  {
   "cell_type": "markdown",
   "id": "409f1211",
   "metadata": {},
   "source": [
    "### Visualization"
   ]
  },
  {
   "cell_type": "markdown",
   "id": "df8990d1",
   "metadata": {},
   "source": [
    "From here, I was able to visualize my first dataframe as a heatmap in Flourish and my second dataframe as a column chart in DataWrapper, which showed that, when adjusted for a 162-game season, both 2020 and the first half of 2021 showed a continuation of the highly disparate distribution."
   ]
  }
 ],
 "metadata": {
  "kernelspec": {
   "display_name": "Python 3",
   "language": "python",
   "name": "python3"
  },
  "language_info": {
   "codemirror_mode": {
    "name": "ipython",
    "version": 3
   },
   "file_extension": ".py",
   "mimetype": "text/x-python",
   "name": "python",
   "nbconvert_exporter": "python",
   "pygments_lexer": "ipython3",
   "version": "3.8.10"
  }
 },
 "nbformat": 4,
 "nbformat_minor": 5
}
